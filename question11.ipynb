{
 "cells": [
  {
   "cell_type": "markdown",
   "id": "585ce544-12f9-4f70-b0bb-7ef47270e0b9",
   "metadata": {},
   "source": [
    "# Adji Rahardjo #\n",
    "Notebook for assignment 7"
   ]
  },
  {
   "cell_type": "code",
   "execution_count": 1,
   "id": "190c4d35-a30d-4e82-bd91-384f030aa74d",
   "metadata": {},
   "outputs": [
    {
     "name": "stdout",
     "output_type": "stream",
     "text": [
      "5.0\n"
     ]
    }
   ],
   "source": [
    "def compute_mean(numerical_list):\n",
    "    numerator = sum(numerical_list)\n",
    "    denominator = len(numerical_list)\n",
    "    avg = numerator/denominator\n",
    "    print(avg)\n",
    "\n",
    "compute_mean([2, 4, 6, 8])"
   ]
  },
  {
   "cell_type": "markdown",
   "id": "40e75f5f-dee0-4faa-a5fa-e9e3ef94e0be",
   "metadata": {},
   "source": [
    "The code above calculates the mean of a given numerical list. The following is a mathematical equation of calculating mean.\n",
    "\n",
    "$$\n",
    "    \\bar{x} = \\frac{x_1+x_2+...+x_n}{n} = \\frac{1}{n} \\left(  \\sum_{i=1}^{n} x_i  \\right)\n",
    "$$"
   ]
  }
 ],
 "metadata": {
  "kernelspec": {
   "display_name": "Python [conda env:base] *",
   "language": "python",
   "name": "conda-base-py"
  },
  "language_info": {
   "codemirror_mode": {
    "name": "ipython",
    "version": 3
   },
   "file_extension": ".py",
   "mimetype": "text/x-python",
   "name": "python",
   "nbconvert_exporter": "python",
   "pygments_lexer": "ipython3",
   "version": "3.12.3"
  }
 },
 "nbformat": 4,
 "nbformat_minor": 5
}
