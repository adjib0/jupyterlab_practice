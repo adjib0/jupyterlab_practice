{
 "cells": [
  {
   "cell_type": "markdown",
   "id": "e5a8b06d-d8d5-4c88-9305-30f3bc9c657a",
   "metadata": {},
   "source": [
    "We are currently working in the following directory:"
   ]
  },
  {
   "cell_type": "code",
   "execution_count": 1,
   "id": "fae733e9-4d87-490f-b729-9f2f42c199cb",
   "metadata": {},
   "outputs": [
    {
     "name": "stdout",
     "output_type": "stream",
     "text": [
      "/c/Users/rahar/Desktop/jupyterlab_practice\n"
     ]
    }
   ],
   "source": [
    "!pwd"
   ]
  },
  {
   "cell_type": "markdown",
   "id": "3c7ffe4d-73b2-4402-896e-e2e4294cce9b",
   "metadata": {},
   "source": [
    "To time how long it takes to run a Python cell, we could use the timeit command inside a cell as is shown below: \n",
    "\n",
    "```\n",
    "%%timeit\n",
    "\n",
    "for i in range(1_000_000):\n",
    "    i**2\n",
    "```"
   ]
  },
  {
   "cell_type": "code",
   "execution_count": 2,
   "id": "619ff4cc-356c-4d6d-ae3d-2b9bf48d7fc7",
   "metadata": {},
   "outputs": [
    {
     "name": "stderr",
     "output_type": "stream",
     "text": [
      "[NbConvertApp] Converting notebook question12.ipynb to html\n",
      "[NbConvertApp] Writing 270575 bytes to question12.html\n"
     ]
    }
   ],
   "source": [
    "# Export this notebook without the code cells\n",
    "!jupyter nbconvert question12.ipynb \\\n",
    "    --to html \\\n",
    "    --output=question12.html \\\n",
    "    --no-input"
   ]
  }
 ],
 "metadata": {
  "kernelspec": {
   "display_name": "Python [conda env:base] *",
   "language": "python",
   "name": "conda-base-py"
  },
  "language_info": {
   "codemirror_mode": {
    "name": "ipython",
    "version": 3
   },
   "file_extension": ".py",
   "mimetype": "text/x-python",
   "name": "python",
   "nbconvert_exporter": "python",
   "pygments_lexer": "ipython3",
   "version": "3.12.3"
  }
 },
 "nbformat": 4,
 "nbformat_minor": 5
}
